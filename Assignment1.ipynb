{
  "nbformat": 4,
  "nbformat_minor": 0,
  "metadata": {
    "colab": {
      "provenance": []
    },
    "kernelspec": {
      "name": "python3",
      "display_name": "Python 3"
    },
    "language_info": {
      "name": "python"
    }
  },
  "cells": [
    {
      "cell_type": "code",
      "execution_count": null,
      "metadata": {
        "id": "vMEKE2jLIEuL"
      },
      "outputs": [],
      "source": []
    },
    {
      "cell_type": "markdown",
      "source": [
        "1. What is Python, and why is it popular ?                                \n",
        "  - Python is a high-level, interpreted, general-purpose programming language designed for ease of use and readability.It is popular because of its versatility across differenrt fields such as; Data Science,Web Development , AI and  Machine Learning and automation."
      ],
      "metadata": {
        "id": "QCK02_GWInDf"
      }
    },
    {
      "cell_type": "markdown",
      "source": [
        "  2. What is an interpreter in Python?\n",
        "   - An interpreter in Python is a program that reads and executes Python code line by line.The interpreter executes Python code directly, making it dynamic and flexible."
      ],
      "metadata": {
        "id": "n4Di8CQBKmLQ"
      }
    },
    {
      "cell_type": "markdown",
      "source": [
        "  3. What are pre-defined keywords in Python ?           \n",
        "   - In Python, predefined keywords also called reserved words are words that have specific meanings and purposes in the language. These keywords cannot be used as variable names, function names, or identifiers because they are part of Python's syntax.\n",
        "\n",
        "  4. Can keywords be used as variable names ?\n",
        "   - No, keywords cannot be used as variable names in Python because they are reserved words that are part of the Python syntax. If in case keywords are used as variable , it will give syntax error.\n",
        "\n",
        "  5. What is mutability in Python ?\n",
        "   - Mutability in Python refers to an object’s ability to be modified after it has been created. Objects in Python are classified into two categories based on mutability;                                        \n",
        "   a . Mutable Object : These objects can be changed after creation. Examples include lists, dictionaries, and sets.   \n",
        "  b. Immutable Object : These objects cannot be changed after creation. Examples include strings, tuples, and numbers (integers, floats, etc.).\n",
        "                                                                                          "
      ],
      "metadata": {
        "id": "ybdlIpsbQNNZ"
      }
    },
    {
      "cell_type": "markdown",
      "source": [
        "   6. Why are lists mutable, but tuples are immutable ?\n",
        "     - Lists are mutable because they are designed for dynamic collections where elements may need to be added, removed, or changed.\n",
        "     Tuples are immutable to provide fixed, unchanging collections that ensure data consistency, allow optimizations like hashing, and make them usable as dictionary keys or set elements.\n",
        "\n",
        "   7. What is the difference between “==” and “is” operators in Python?\n",
        "     - The Equality Operator (==) checks if the value of two objects are equal whereas identity operator (\"is\") checks if the two variable refers to the same object in the memory.\n",
        "\n",
        "   8. What are logical operators in Python?\n",
        "     - Logical operators in Python are used to combine conditional statements and perform logical operations. The three main logical operators are:\n",
        "    \n",
        "    a. Logical AND : Returns true value if both the condition are true.\n",
        "\n",
        "    b.Logical OR   : Returns true value if at least one condition is true.\n",
        "    \n",
        "    c.Logical NOT  : Reurns the inverse of a condition (ie, true becomes false and vice versa)."
      ],
      "metadata": {
        "id": "k45Tr6znf3FS"
      }
    },
    {
      "cell_type": "markdown",
      "source": [
        "  9. What is type casting in Python?\n",
        "    - Type casting in Python is the process of converting one data type into another. It can be done explicitly by the programmer or implicitly by Python in certain situations.There are two types of type casting that are prsent these are:\n",
        "\n",
        "    a. Explicit Type Casting - The programmer explicitly converts one data type to another using Python's built-in functions.\n",
        "\n",
        "    b.Implicit Type Cating - The programmer explicitly converts one data type to another using Python's built-in functions.\n",
        "\n",
        "\n",
        "  10. What is the difference between implicit and explicit type casting?\n",
        "\n",
        "    - Implicit Type Casting in Python automatically converts one data type to another (e.g., int to float) during operations to avoid data loss, whereas im explicit casting programmer manually converts one data type to another using inbuilt functions such as int , str , float , bool.\n",
        "    \n",
        "    \n"
      ],
      "metadata": {
        "id": "RXtQRPZLlzPu"
      }
    },
    {
      "cell_type": "markdown",
      "source": [
        "  11. What is the purpose of conditional statements in Python?\n",
        "   - The purpose of a conditional statement in Python is to control the flow of a program by executing specific blocks of code based on whether a given condition is True or False. This allows for decision-making within a program.\n",
        "\n",
        "  12. How does the elif statement work?\n",
        "    - The elif statement in Python is short for \"else if\" and is used in conditional statements to check multiple conditions sequentially. It allows to handle a situation where more than two possible paths is present in the logic. If a condition is True, the corresponding block of code is executed, and the rest of the elif and else blocks are skipped whereas If none of the conditions are True, the else block (if present) will execute.\n",
        "\n",
        "  13. What is the difference between for and while loops?\n",
        "     - Loops in the python are employed to repeat the sequence of an action or code  until a specific condition is fulfilled.For loops are used for iterating over a sequence of an element whereas while loops are used for executing a code until the condition becomes false.\n",
        "\n",
        "  14. Describe a scenario where a while loop is more suitable than a for loop.\n",
        "     - A while loop is more suitable than a for loop when we don't know how many iterations will be required to meet a condition.\n",
        "     Imagine we are  writing a program where we need to continuously prompt a user for a password until they provide a correct one. In this case, we don't know how many attempts the user will make, so a while loop is the better choice.\n",
        "  "
      ],
      "metadata": {
        "id": "yFIvxoPGwVIX"
      }
    },
    {
      "cell_type": "code",
      "source": [
        "print(\"Hello,world\")"
      ],
      "metadata": {
        "colab": {
          "base_uri": "https://localhost:8080/"
        },
        "id": "8_M-p-kPGU7l",
        "outputId": "ecb90fff-8506-4b62-a85b-ccb2492cc128"
      },
      "execution_count": null,
      "outputs": [
        {
          "output_type": "stream",
          "name": "stdout",
          "text": [
            "Hello,world\n"
          ]
        }
      ]
    },
    {
      "cell_type": "code",
      "source": [
        "name=input(\"enter your name : \")\n",
        "age=int(input(\"enter your age : \"))\n"
      ],
      "metadata": {
        "colab": {
          "base_uri": "https://localhost:8080/"
        },
        "id": "Oa0_siOfGwYo",
        "outputId": "da43e78c-04d2-4ba4-8e8f-bee5200b6628"
      },
      "execution_count": null,
      "outputs": [
        {
          "name": "stdout",
          "output_type": "stream",
          "text": [
            "enter your name : Akanksha Chaurasia\n",
            "enter your age : 23\n"
          ]
        }
      ]
    },
    {
      "cell_type": "code",
      "source": [
        "help('keywords')"
      ],
      "metadata": {
        "colab": {
          "base_uri": "https://localhost:8080/"
        },
        "id": "cceIBvSVMYq4",
        "outputId": "d04fc043-beaf-472e-d5e9-434d179f0acc"
      },
      "execution_count": null,
      "outputs": [
        {
          "output_type": "stream",
          "name": "stdout",
          "text": [
            "\n",
            "Here is a list of the Python keywords.  Enter any keyword to get more help.\n",
            "\n",
            "False               class               from                or\n",
            "None                continue            global              pass\n",
            "True                def                 if                  raise\n",
            "and                 del                 import              return\n",
            "as                  elif                in                  try\n",
            "assert              else                is                  while\n",
            "async               except              lambda              with\n",
            "await               finally             nonlocal            yield\n",
            "break               for                 not                 \n",
            "\n"
          ]
        }
      ]
    },
    {
      "cell_type": "code",
      "source": [
        "word= input(\"enter aword to check if it is a python word\")\n",
        "result=help('keywords')\n",
        "print(result)"
      ],
      "metadata": {
        "colab": {
          "base_uri": "https://localhost:8080/"
        },
        "id": "4TrMJIQ1YrfC",
        "outputId": "caaf76aa-6a7a-488c-8db3-a7677f94522f"
      },
      "execution_count": null,
      "outputs": [
        {
          "output_type": "stream",
          "name": "stdout",
          "text": [
            "enter aword to check if it is a python word else\n",
            "\n",
            "Here is a list of the Python keywords.  Enter any keyword to get more help.\n",
            "\n",
            "False               class               from                or\n",
            "None                continue            global              pass\n",
            "True                def                 if                  raise\n",
            "and                 del                 import              return\n",
            "as                  elif                in                  try\n",
            "assert              else                is                  while\n",
            "async               except              lambda              with\n",
            "await               finally             nonlocal            yield\n",
            "break               for                 not                 \n",
            "\n",
            "None\n"
          ]
        }
      ]
    },
    {
      "cell_type": "code",
      "source": [
        "student=[\"Arjun\",95.4,17,\"Delhi\"]\n",
        "print(student)\n",
        "student[0]= \"karan\"\n",
        "print(student) #list\n",
        "\n",
        "tup=(2,1,3,1,4)\n",
        "print(tup[0])\n",
        "tup[0]=5\n",
        "print(tup) # object does not support item assignment"
      ],
      "metadata": {
        "id": "T4Koz35vZBVa",
        "colab": {
          "base_uri": "https://localhost:8080/",
          "height": 245
        },
        "outputId": "040e297b-a2d9-4e9f-b115-933d269e5ca1"
      },
      "execution_count": null,
      "outputs": [
        {
          "output_type": "stream",
          "name": "stdout",
          "text": [
            "['Arjun', 95.4, 17, 'Delhi']\n",
            "['karan', 95.4, 17, 'Delhi']\n",
            "2\n"
          ]
        },
        {
          "output_type": "error",
          "ename": "TypeError",
          "evalue": "'tuple' object does not support item assignment",
          "traceback": [
            "\u001b[0;31m---------------------------------------------------------------------------\u001b[0m",
            "\u001b[0;31mTypeError\u001b[0m                                 Traceback (most recent call last)",
            "\u001b[0;32m<ipython-input-5-9f8f60e0b1c4>\u001b[0m in \u001b[0;36m<cell line: 8>\u001b[0;34m()\u001b[0m\n\u001b[1;32m      6\u001b[0m \u001b[0mtup\u001b[0m\u001b[0;34m=\u001b[0m\u001b[0;34m(\u001b[0m\u001b[0;36m2\u001b[0m\u001b[0;34m,\u001b[0m\u001b[0;36m1\u001b[0m\u001b[0;34m,\u001b[0m\u001b[0;36m3\u001b[0m\u001b[0;34m,\u001b[0m\u001b[0;36m1\u001b[0m\u001b[0;34m,\u001b[0m\u001b[0;36m4\u001b[0m\u001b[0;34m)\u001b[0m\u001b[0;34m\u001b[0m\u001b[0;34m\u001b[0m\u001b[0m\n\u001b[1;32m      7\u001b[0m \u001b[0mprint\u001b[0m\u001b[0;34m(\u001b[0m\u001b[0mtup\u001b[0m\u001b[0;34m[\u001b[0m\u001b[0;36m0\u001b[0m\u001b[0;34m]\u001b[0m\u001b[0;34m)\u001b[0m\u001b[0;34m\u001b[0m\u001b[0;34m\u001b[0m\u001b[0m\n\u001b[0;32m----> 8\u001b[0;31m \u001b[0mtup\u001b[0m\u001b[0;34m[\u001b[0m\u001b[0;36m0\u001b[0m\u001b[0;34m]\u001b[0m\u001b[0;34m=\u001b[0m\u001b[0;36m5\u001b[0m\u001b[0;34m\u001b[0m\u001b[0;34m\u001b[0m\u001b[0m\n\u001b[0m\u001b[1;32m      9\u001b[0m \u001b[0mprint\u001b[0m\u001b[0;34m(\u001b[0m\u001b[0mtup\u001b[0m\u001b[0;34m)\u001b[0m\u001b[0;34m\u001b[0m\u001b[0;34m\u001b[0m\u001b[0m\n",
            "\u001b[0;31mTypeError\u001b[0m: 'tuple' object does not support item assignment"
          ]
        }
      ]
    },
    {
      "cell_type": "code",
      "source": [
        "a=int(input(\"enter first number\"))\n",
        "b=int(input(\"enter second number\"))\n",
        "print(a+b)\n",
        "print(a-b)\n",
        "print(a*b)\n",
        "print(a/b)\n",
        "print(a%b)"
      ],
      "metadata": {
        "colab": {
          "base_uri": "https://localhost:8080/"
        },
        "id": "sq9pYhAMt8VW",
        "outputId": "b47f5d00-8784-4504-f89e-fac052ce13be"
      },
      "execution_count": null,
      "outputs": [
        {
          "output_type": "stream",
          "name": "stdout",
          "text": [
            "enter first number10\n",
            "enter second number2\n",
            "12\n",
            "8\n",
            "20\n",
            "5.0\n",
            "0\n"
          ]
        }
      ]
    },
    {
      "cell_type": "code",
      "source": [
        "a=\"25\"\n",
        "print(int(a))\n",
        "print(float(a))\n",
        "print(bool(a))"
      ],
      "metadata": {
        "colab": {
          "base_uri": "https://localhost:8080/"
        },
        "id": "g_abmaBfukub",
        "outputId": "051ee46e-b61f-4232-8b11-c381301d59e6"
      },
      "execution_count": null,
      "outputs": [
        {
          "output_type": "stream",
          "name": "stdout",
          "text": [
            "25\n",
            "25.0\n",
            "True\n"
          ]
        }
      ]
    },
    {
      "cell_type": "code",
      "source": [
        "student=[\"Rahul\",89,\"Mumbai\"]\n",
        "print(float(student[1])) # type casting"
      ],
      "metadata": {
        "colab": {
          "base_uri": "https://localhost:8080/"
        },
        "id": "bAZrctjnvSvq",
        "outputId": "44f04b53-13fb-4508-aa5c-bcfbea3820d1"
      },
      "execution_count": null,
      "outputs": [
        {
          "output_type": "stream",
          "name": "stdout",
          "text": [
            "89.0\n"
          ]
        }
      ]
    },
    {
      "cell_type": "code",
      "source": [
        "x=int(input(\"enter a number\"))\n",
        "if x>0:\n",
        "  print(\"Positive number\")\n",
        "elif x<0:\n",
        "  print(\"negative number\")\n",
        "else:\n",
        "  print(\"zero\")"
      ],
      "metadata": {
        "colab": {
          "base_uri": "https://localhost:8080/"
        },
        "id": "DtfzCjSzxD7R",
        "outputId": "2cf9048d-6db4-4110-bc60-8662be75980d"
      },
      "execution_count": null,
      "outputs": [
        {
          "output_type": "stream",
          "name": "stdout",
          "text": [
            "enter a number4\n",
            "Positive number\n"
          ]
        }
      ]
    },
    {
      "cell_type": "code",
      "source": [
        "for i in range(1,11):\n",
        "  print(i)"
      ],
      "metadata": {
        "colab": {
          "base_uri": "https://localhost:8080/"
        },
        "id": "45DlshonyT1c",
        "outputId": "99b81775-c8d6-46a5-b902-49b65b335339"
      },
      "execution_count": null,
      "outputs": [
        {
          "output_type": "stream",
          "name": "stdout",
          "text": [
            "1\n",
            "2\n",
            "3\n",
            "4\n",
            "5\n",
            "6\n",
            "7\n",
            "8\n",
            "9\n",
            "10\n"
          ]
        }
      ]
    },
    {
      "cell_type": "code",
      "source": [
        "sum=0\n",
        "for num in range(1,51):\n",
        "  if(num%2==0):\n",
        "    sum=sum+num\n",
        "print(\"sum of all even number between 1 to 50 is \", sum)"
      ],
      "metadata": {
        "colab": {
          "base_uri": "https://localhost:8080/"
        },
        "id": "IkSUdXRTEVcb",
        "outputId": "39511c3a-bc64-4703-b230-caa203a90699"
      },
      "execution_count": 14,
      "outputs": [
        {
          "output_type": "stream",
          "name": "stdout",
          "text": [
            "sum of all even number between 1 to 50 is  650\n"
          ]
        }
      ]
    },
    {
      "cell_type": "code",
      "source": [
        "n=5\n",
        "i=1\n",
        "fact=1\n",
        "while i <=5:\n",
        "  fact=fact*i\n",
        "  i=i+1\n",
        "print(\"fcatorial of 5 is\", fact)"
      ],
      "metadata": {
        "colab": {
          "base_uri": "https://localhost:8080/"
        },
        "id": "Ay8ny4bQK2rO",
        "outputId": "6028541c-8d4d-4c14-d50d-40b150a0a41d"
      },
      "execution_count": 15,
      "outputs": [
        {
          "output_type": "stream",
          "name": "stdout",
          "text": [
            "fcatorial of 5 is 120\n"
          ]
        }
      ]
    },
    {
      "cell_type": "code",
      "source": [
        "\n",
        "original_string = input(\"Enter a string: \")\n",
        "reversed_string = \"\"\n",
        "index = len(original_string) - 1\n",
        "while index >= 0:\n",
        "    reversed_string += original_string[index]\n",
        "    index -= 1\n",
        "print(\"Reversed string:\", reversed_string)\n"
      ],
      "metadata": {
        "colab": {
          "base_uri": "https://localhost:8080/"
        },
        "id": "9ry_mghSLt23",
        "outputId": "dbffac47-854f-4127-f3e5-c85fb2cd7110"
      },
      "execution_count": 16,
      "outputs": [
        {
          "output_type": "stream",
          "name": "stdout",
          "text": [
            "Enter a string:  PW skills\n",
            "Reversed string: slliks WP \n"
          ]
        }
      ]
    },
    {
      "cell_type": "code",
      "source": [
        "immutable_value=5\n",
        "mutable_list=[1,2,3,4]\n",
        "print(\"Before function call - Immuatble argument :\", immutable_value)\n",
        "print(\"Before function call - mutable_list :\", mutable_list)\n",
        "def modify_values(immutable_value, mutable_list):\n",
        "    immutable_value = 10\n",
        "    mutable_list.append(5)\n",
        "modify_values(immutable_value, mutable_list)\n",
        "print(\"After function call - immutable_value :\", immutable_value)\n",
        "print(\"After function call - mutable_list :\" , mutable_list)\n"
      ],
      "metadata": {
        "colab": {
          "base_uri": "https://localhost:8080/"
        },
        "id": "8tqyKSYtQGLX",
        "outputId": "22416e30-017d-4e91-c77f-1fa8a014e59c"
      },
      "execution_count": 17,
      "outputs": [
        {
          "output_type": "stream",
          "name": "stdout",
          "text": [
            "Before function call - Immuatble argument : 5\n",
            "Before function call - mutable_list : [1, 2, 3, 4]\n",
            "After function call - immutable_value : 5\n",
            "After function call - mutable_list : [1, 2, 3, 4, 5]\n"
          ]
        }
      ]
    }
  ]
}